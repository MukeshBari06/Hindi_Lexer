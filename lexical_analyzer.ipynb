{
 "cells": [
  {
   "cell_type": "code",
   "execution_count": 1,
   "metadata": {},
   "outputs": [],
   "source": [
    "import re\n"
   ]
  },
  {
   "cell_type": "code",
   "execution_count": 2,
   "metadata": {},
   "outputs": [],
   "source": [
    "keywords={\"विराम\":{\"Token\":\"T_BREAK\",\"Val\":None},\"संख्या\":{\"Token\":\"T_FLOAT\",\"Val\":None},\"विकल्प\":{\"Token\":\"T_CASE\",\"Val\":None} ,\"अक्षर\":{\"Token\":\"T_CHAR\",\"Val\":None},\"अगर\":{\"Token\":\"T_IF\",\"Val\":None},\"अन्य\":{\"Token\":\"T_ELSE\",\"Val\":None},\"पूर्णांक\":{\"Token\":\"T_INT\",\"Val\":None},\"ऑटो\":{\"Token\":\"T_AUTO\",\"Val\":None},\"स्थिर\":{\"Token\":\"T_CONST\",\"Val\":None},\"छोटा\":{\"Token\":\"T_SHORT\",\"Val\":None},\"ढांचा\":{\"Token\":\"T_STRUCT\",\"Val\":None},\"अचिन्हित\":{\"Token\":\"T_UNSIGNED\",\"Val\":None},\"जारी\":{\"Token\":\"T_CONTINUE\",\"Val\":None},\"दीर्घ\":{\"Token\":\"T_LONG\",\"Val\":None},\"चिन्हिता\":{\"Token\":\"T_SIGNED\",\"Val\":None},\"स्विचा\":{\"Token\":\"T_SWITCH\",\"Val\":None},\"रिक्त\":{\"Token\":\"T_VOID\",\"Val\":None},\"डिफ़ाल्टा\":{\"Token\":\"T_DEFAULT\",\"Val\":None},\"रजिस्टर\":{\"Token\":\"T_REG\",\"Val\":None},\"साइजोफ\":{\"Token\":\"T_SIZE_OF\",\"Val\":None},\"डप्रकारव्याख्या\":{\"Token\":\"T_TYPE_OF\",\"Val\":None},\"परिवर्तनशील\":{\"Token\":\"T_VOLATILE\",\"Val\":None},\"डू\":{\"Token\":\"T_DO\",\"Val\":None},\"वापसी\":{\"Token\":\"T_RETURN\",\"Val\":None},\"स्थिर\":{\"Token\":\"T_STATIC\",\"Val\":None},\"संघ\":{\"Token\":\"T_UNION\",\"Val\":None},\"जबकि\":{\"Token\":\"T_WHILE\",\"Val\":None}}\n",
    "arithmetic_op={\"+\":{\"Token\":\"T_PLUS\",\"Val\":None},\"-\":{\"Token\":\"T_SUB\",\"Val\":None},\"*\":{\"Token\":\"T_MUL\",\"Val\":None},\"/\":{\"Token\":\"T_DIV\",\"Val\":None},\"&\":{\"Token\":\"T_AND\",\"Val\":None},\"|\":{\"Token\":\"T_OR\",\"Val\":None},\"^\":{\"Token\":\"T_XOR\",\"Val\":None}}\n",
    "relational_op={\"<\":{\"Token\":\"T_LESS\",\"Val\":None},\">\":{\"Token\":\"T_MORE\",\"Val\":None},\"=\":{\"Token\":\"T_EQ\",\"Val\":None},\"<=\":{\"Token\":\"T_LESS_EQ\",\"Val\":None},\">=\":{\"Token\":\"T_MORE_EQ\",\"Val\":None},\"==\":{\"Token\":\"T_EQ_EQ\",\"Val\":None}}\n",
    "special_sym={\";\":{\"Token\":\";\",\"Val\":None},\",\":{\"Token\":\",\",\"Val\":None},\"(\":{\"Token\":\"(\",\"Val\":None},\")\":{\"Token\":\")\",\"Val\":None},\"{\":{\"Token\":\"{\",\"Val\":None},\"}\":{\"Token\":\"}\",\"Val\":None},\"[\":{\"Token\":\"[\",\"Val\":None},\"]\":{\"Token\":\"]\",\"Val\":None}}\n",
    "var={}"
   ]
  },
  {
   "cell_type": "code",
   "execution_count": 3,
   "metadata": {},
   "outputs": [],
   "source": [
    "def is_var(word):\n",
    "    x=re.search(\"^[$]\",word)\n",
    "    if x==None:\n",
    "        return False\n",
    "    else:\n",
    "        return True\n",
    "def is_const(word):\n",
    "    x=re.search(\"[0-9]+\",word)\n",
    "    y=re.search(\"[0-9]+[.][0-9]+\",word)\n",
    "    if x==None and y==None:\n",
    "        return False\n",
    "    else:\n",
    "        return True"
   ]
  },
  {
   "cell_type": "code",
   "execution_count": 4,
   "metadata": {},
   "outputs": [],
   "source": [
    "def Parse_(t_text):\n",
    "    parsing_list=[]\n",
    "    for t_word in t_text:\n",
    "        if t_word in keywords.keys():\n",
    "            parsing_list.append(keywords[t_word])\n",
    "        elif t_word in arithmetic_op.keys():\n",
    "            parsing_list.append(arithmetic_op[t_word])\n",
    "        elif t_word in relational_op.keys():\n",
    "            parsing_list.append(relational_op[t_word])\n",
    "        elif t_word in special_sym.keys():\n",
    "            parsing_list.append(special_sym[t_word])\n",
    "        elif t_word in var.keys():\n",
    "            parsing_list.append(var[t_word])\n",
    "        else:\n",
    "            if(is_var(t_word)):\n",
    "                var_name=\"T_VAR\"+t_word\n",
    "                var[t_word]={\"Token\":var_name,\"Val\":None}\n",
    "                parsing_list.append(var[t_word])\n",
    "            elif(is_const(t_word)):\n",
    "                var_name=\"T_Const\"+t_word\n",
    "                var[t_word]={\"Token\":var_name,\"Val\":int(t_word)}\n",
    "                parsing_list.append(var[t_word])\n",
    "            else:\n",
    "                parsing_list.append(\"error\")\n",
    "    return parsing_list"
   ]
  },
  {
   "cell_type": "code",
   "execution_count": 5,
   "metadata": {},
   "outputs": [],
   "source": [
    "def Tokenize_(text):\n",
    "    for r in range(len(text)):\n",
    "        if(text[r]==\";\"):\n",
    "            text=text[0:r]+\" \"+text[r:]\n",
    "        elif text[r]==\",\":\n",
    "            text=text[0:r]+\" \"+text[r]+\" \"+text[r+1:]\n",
    "        \n",
    "    return text.split()"
   ]
  },
  {
   "cell_type": "code",
   "execution_count": 6,
   "metadata": {},
   "outputs": [],
   "source": [
    "def read_from_file(f_loc):\n",
    "    f=open(f_loc,\"r\",encoding=\"utf8\")\n",
    "    text=f.read()\n",
    "    return text"
   ]
  },
  {
   "cell_type": "code",
   "execution_count": null,
   "metadata": {},
   "outputs": [
    {
     "name": "stdout",
     "output_type": "stream",
     "text": [
      "ENTER C FOR CONSOLE ELSE F FOR FILEc\n",
      "Hindi_compiler>>>वापसी,\n",
      "[{'Token': 'T_RETURN', 'Val': None}, {'Token': ',', 'Val': None}]\n"
     ]
    }
   ],
   "source": [
    "if __name__==\"__main__\":\n",
    "    choice=input(\"ENTER C FOR CONSOLE ELSE F FOR FILE\")\n",
    "    if choice=='c' or choice=='C' :\n",
    "        while True:\n",
    "            text=input('Hindi_compiler>>>')\n",
    "            t_text=Tokenize_(text)\n",
    "            print(Parse_(t_text))\n",
    "    else:\n",
    "        f_name=input(\"Enter File name\")\n",
    "        f_loc=\".\\Files\\\\\"+f_name\n",
    "        text=read_from_file(f_loc)\n",
    "        t_text=Tokenize_(text)\n",
    "        print(Parse_(t_text))\n",
    "        \n",
    "        "
   ]
  },
  {
   "cell_type": "code",
   "execution_count": null,
   "metadata": {},
   "outputs": [],
   "source": []
  },
  {
   "cell_type": "code",
   "execution_count": null,
   "metadata": {},
   "outputs": [],
   "source": []
  }
 ],
 "metadata": {
  "kernelspec": {
   "display_name": "Python 3",
   "language": "python",
   "name": "python3"
  },
  "language_info": {
   "codemirror_mode": {
    "name": "ipython",
    "version": 3
   },
   "file_extension": ".py",
   "mimetype": "text/x-python",
   "name": "python",
   "nbconvert_exporter": "python",
   "pygments_lexer": "ipython3",
   "version": "3.9.0"
  }
 },
 "nbformat": 4,
 "nbformat_minor": 4
}
